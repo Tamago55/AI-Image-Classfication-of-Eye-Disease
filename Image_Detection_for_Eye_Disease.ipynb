{
  "cells": [
    {
      "cell_type": "markdown",
      "source": [
        "# 1. Preliminary Setup\n"
      ],
      "metadata": {
        "id": "oL_OlXzpyUCs"
      }
    },
    {
      "cell_type": "markdown",
      "metadata": {
        "id": "ZKV8ii7Ta0IB"
      },
      "source": [
        "## 1.1 Library"
      ]
    },
    {
      "cell_type": "code",
      "execution_count": null,
      "metadata": {
        "id": "FG4acgXpPTL6"
      },
      "outputs": [],
      "source": [
        "import cv2\n",
        "import datetime\n",
        "import numpy as np\n",
        "import pandas as pd\n",
        "import tensorflow as tf\n",
        "import os\n",
        "import json\n",
        "\n",
        "import seaborn as sns\n",
        "import matplotlib.pyplot as plt\n",
        "import matplotlib.gridspec as gridspec\n",
        "%matplotlib inline\n",
        "\n",
        "import sys\n",
        "import warnings\n",
        "if not sys.warnoptions:\n",
        "    warnings.simplefilter(\"ignore\")\n",
        "\n",
        "from random import randint\n",
        "from sklearn.utils import shuffle\n",
        "from sklearn.model_selection import train_test_split\n",
        "from sklearn.metrics import classification_report, confusion_matrix\n",
        "\n",
        "from tensorflow.keras import layers\n",
        "from tensorflow.keras import Model, Sequential\n",
        "from tensorflow.keras.utils import plot_model\n",
        "from tensorflow.keras.callbacks import ReduceLROnPlateau\n",
        "from tensorflow.keras.preprocessing.image import ImageDataGenerator, img_to_array, load_img\n",
        "from tensorflow.keras.models import load_model, Model\n",
        "\n",
        "from google.colab import drive\n",
        "\n",
        "from sklearn.metrics import ConfusionMatrixDisplay\n",
        "from sklearn.metrics import confusion_matrix\n",
        "\n",
        "# print(tf.__version__)"
      ]
    },
    {
      "cell_type": "markdown",
      "source": [
        "# 2. Setting"
      ],
      "metadata": {
        "id": "d7PbrIuSyf7j"
      }
    },
    {
      "cell_type": "markdown",
      "metadata": {
        "id": "O88KWmida5qq"
      },
      "source": [
        "## 2.1 Data setting"
      ]
    },
    {
      "cell_type": "code",
      "execution_count": null,
      "metadata": {
        "id": "9zRdF3TlbL6F",
        "colab": {
          "base_uri": "https://localhost:8080/"
        },
        "outputId": "55ba8939-d432-4289-df9a-a14609cfae50"
      },
      "outputs": [
        {
          "output_type": "stream",
          "name": "stdout",
          "text": [
            "Drive already mounted at /content/drive; to attempt to forcibly remount, call drive.mount(\"/content/drive\", force_remount=True).\n",
            "##################################################\n",
            "Train sample(before separation):  4081 {0: 901, 1: 900, 2: 900, 3: 772, 4: 608}\n",
            "Found 3264 validated image filenames belonging to 5 classes.\n",
            "Found 817 validated image filenames belonging to 5 classes.\n",
            "Found 500 validated image filenames belonging to 5 classes.\n",
            "##################################################\n",
            "Train sample:  3264 {'0': 721, '1': 720, '2': 720, '3': 617, '4': 486}\n",
            "Val sample:  817 {'0': 180, '1': 180, '2': 180, '3': 155, '4': 122}\n",
            "Test sample:  500 {'4': 100, '1': 100, '3': 100, '2': 100, '0': 100}\n",
            "##################################################\n"
          ]
        }
      ],
      "source": [
        "# Mount Google Drive\n",
        "drive.mount('/content/drive')\n",
        "\n",
        "# Define directories\n",
        "base_dir = '/content/drive/My Drive/AAAI/DR_data_cropped_classes'\n",
        "train_dir = os.path.join(base_dir, 'train')\n",
        "test_dir = os.path.join(base_dir, 'test')\n",
        "\n",
        "BATCH_SIZE = 32\n",
        "EPOCHS = 5\n",
        "IMAGE_SIZE = (150, 150)\n",
        "\n",
        "tf.random.set_seed(0)\n",
        "\n",
        "# Mapping class names to numerical labels\n",
        "CLASSES = {'0': 0, '1': 1, '2': 2, '3': 3, '4': 4}\n",
        "\n",
        "# Function to shuffle and trim the dataframe to a multiple of BATCH_SIZE\n",
        "def shuffle_prune(df, BATCH_SIZE):\n",
        "    df = shuffle(df, random_state=42)\n",
        "    df.reset_index(drop=True, inplace=True)\n",
        "    df = df[:df.shape[0] // BATCH_SIZE * BATCH_SIZE]\n",
        "    return df\n",
        "\n",
        "# Loading and preprocessing training data\n",
        "filenames = tf.io.gfile.glob(train_dir + '/*/*.jpeg')\n",
        "image_path_df_train = pd.DataFrame(data={'filename': filenames, 'class': [x.split('/')[-2] for x in filenames]})\n",
        "image_path_df_train['class'] = image_path_df_train['class'].map(CLASSES)\n",
        "\n",
        "print(\"#\"*50)\n",
        "print('Train sample(before separation): ', len(image_path_df_train), dict(image_path_df_train['class'].value_counts()))\n",
        "\n",
        "# Splitting the training set further into training and validation sets\n",
        "image_path_df_train, image_path_df_val = train_test_split(image_path_df_train, test_size=0.2, random_state=42, stratify=image_path_df_train['class'])\n",
        "\n",
        "# Converting the values in 'class' column to string type\n",
        "image_path_df_train['class'] = image_path_df_train['class'].astype(str)\n",
        "image_path_df_val['class'] = image_path_df_val['class'].astype(str)\n",
        "\n",
        "# Loading test data\n",
        "filenames = tf.io.gfile.glob(test_dir + '/*/*.jpeg')\n",
        "image_path_df_test = pd.DataFrame(data={'filename': filenames, 'class': [x.split('/')[-2] for x in filenames]})\n",
        "image_path_df_test['class'] = image_path_df_test['class'].map(CLASSES)\n",
        "\n",
        "image_path_df_test['class'] = image_path_df_test['class'].astype(str)\n",
        "\n",
        "# image augmentation\n",
        "train_datagen = ImageDataGenerator(\n",
        "    rescale=1./255,\n",
        "    rotation_range=20,\n",
        "    width_shift_range=0.1,\n",
        "    height_shift_range=0.1,\n",
        "    horizontal_flip=True,\n",
        "    fill_mode='nearest'\n",
        ")\n",
        "\n",
        "# ImageDataGenerator for validation and test data (only rescaling)\n",
        "val_datagen = ImageDataGenerator(rescale=1./255)\n",
        "test_datagen = ImageDataGenerator(rescale=1./255)\n",
        "\n",
        "# Creating generators for training, validation, and test data\n",
        "train_generator = train_datagen.flow_from_dataframe(\n",
        "    dataframe=image_path_df_train,\n",
        "    x_col='filename',\n",
        "    y_col='class',\n",
        "    target_size=IMAGE_SIZE,\n",
        "    batch_size=BATCH_SIZE,\n",
        "    class_mode='categorical'\n",
        ")\n",
        "\n",
        "val_generator = val_datagen.flow_from_dataframe(\n",
        "    dataframe=image_path_df_val,\n",
        "    x_col='filename',\n",
        "    y_col='class',\n",
        "    target_size=IMAGE_SIZE,\n",
        "    batch_size=BATCH_SIZE,\n",
        "    class_mode='categorical'\n",
        ")\n",
        "\n",
        "test_generator = test_datagen.flow_from_dataframe(\n",
        "    dataframe=image_path_df_test,\n",
        "    x_col='filename',\n",
        "    y_col='class',\n",
        "    target_size=IMAGE_SIZE,\n",
        "    batch_size=1,\n",
        "    class_mode='categorical',\n",
        "    shuffle=False\n",
        ")\n",
        "\n",
        "print(\"#\"*50)\n",
        "print('Train sample: ', len(image_path_df_train), dict(image_path_df_train['class'].value_counts()))\n",
        "print('Val sample: ', len(image_path_df_val), dict(image_path_df_val['class'].value_counts()))\n",
        "print('Test sample: ', len(image_path_df_test), dict(image_path_df_test['class'].value_counts()))\n",
        "print(\"#\"*50)"
      ]
    },
    {
      "cell_type": "markdown",
      "metadata": {
        "id": "pHQ4AvsecCyM"
      },
      "source": [
        "## 2.2. Get images and labels arrays"
      ]
    },
    {
      "cell_type": "code",
      "execution_count": null,
      "metadata": {
        "id": "pWtYByNAcBVf",
        "colab": {
          "base_uri": "https://localhost:8080/"
        },
        "outputId": "c5aa5b1f-53b4-420b-e9f1-d0aee3bb30ee"
      },
      "outputs": [
        {
          "output_type": "stream",
          "name": "stdout",
          "text": [
            "Shape of train set: (3264, 150, 150, 3)\n",
            "Shape of train set: (3264,)\n",
            "Shape of validation set: (817, 150, 150, 3)\n",
            "Shape of validation set: (817,)\n",
            "Shape of test set: (500, 150, 150, 3)\n",
            "Shape of test set: (500,)\n"
          ]
        }
      ],
      "source": [
        "def get_images_and_labels_arrays(df):\n",
        "    images = []\n",
        "    for file in df['filename']:\n",
        "        image = cv2.imread(file)\n",
        "        image = cv2.resize(image,IMAGE_SIZE)\n",
        "        images.append(image)\n",
        "    images = np.array(images)\n",
        "\n",
        "    labels = df.loc[:, 'class']\n",
        "    return images, labels\n",
        "train_images, train_labels = get_images_and_labels_arrays(image_path_df_train)\n",
        "\n",
        "print(f'Shape of train set: {train_images.shape}')\n",
        "print(f'Shape of train set: {train_labels.shape}')\n",
        "\n",
        "val_images, val_labels = get_images_and_labels_arrays(image_path_df_val)\n",
        "\n",
        "print(f'Shape of validation set: {val_images.shape}')\n",
        "print(f'Shape of validation set: {val_labels.shape}')\n",
        "\n",
        "test_images, test_labels = get_images_and_labels_arrays(image_path_df_test)\n",
        "\n",
        "print(f'Shape of test set: {test_images.shape}')\n",
        "print(f'Shape of test set: {test_labels.shape}')\n"
      ]
    },
    {
      "cell_type": "markdown",
      "source": [
        "## 2.3. Save and Load images and labels set"
      ],
      "metadata": {
        "id": "LQXFb-TKxZeL"
      }
    },
    {
      "cell_type": "code",
      "source": [
        "# Specify the full file path\n",
        "save_dir = '/content/drive/My Drive/AAAI'\n",
        "\n",
        "# Saving the training set\n",
        "np.save(f'{save_dir}/train_images.npy', train_images)\n",
        "np.save(f'{save_dir}/train_labels.npy', train_labels)\n",
        "\n",
        "# Saving the validation set\n",
        "np.save(f'{save_dir}/val_images.npy', val_images)\n",
        "np.save(f'{save_dir}/val_labels.npy', val_labels)\n",
        "\n",
        "# Saving the test set\n",
        "np.save(f'{save_dir}/test_images.npy', test_images)\n",
        "np.save(f'{save_dir}/test_labels.npy', test_labels)\n"
      ],
      "metadata": {
        "id": "d7hO4pC-838t"
      },
      "execution_count": null,
      "outputs": []
    },
    {
      "cell_type": "code",
      "source": [
        "# Specify the full file path\n",
        "save_dir = '/content/drive/My Drive/AAAI'\n",
        "\n",
        "# Load the training set\n",
        "train_images = np.load(f'{save_dir}/train_images.npy')\n",
        "train_labels = np.load(f'{save_dir}/train_labels.npy', allow_pickle=True)  # Allowing pickle\n",
        "\n",
        "# Load the validation set\n",
        "val_images = np.load(f'{save_dir}/val_images.npy')\n",
        "val_labels = np.load(f'{save_dir}/val_labels.npy', allow_pickle=True)  # Allowing pickle\n",
        "\n",
        "# Load the test set\n",
        "test_images = np.load(f'{save_dir}/test_images.npy')\n",
        "test_labels = np.load(f'{save_dir}/test_labels.npy', allow_pickle=True)  # Allowing pickle"
      ],
      "metadata": {
        "id": "yV51OKcT9CSR"
      },
      "execution_count": null,
      "outputs": []
    },
    {
      "cell_type": "markdown",
      "source": [
        "# 3. Model"
      ],
      "metadata": {
        "id": "K3-CGRzpyn4f"
      }
    },
    {
      "cell_type": "markdown",
      "metadata": {
        "id": "EYoNFr20bHPn"
      },
      "source": [
        "## 3.1. Create the model"
      ]
    },
    {
      "cell_type": "code",
      "source": [
        "def create_model():\n",
        "    with tf.device('/gpu:0'):\n",
        "        pretrained_model = tf.keras.applications.VGG19(\n",
        "            weights='imagenet',\n",
        "            include_top=False,\n",
        "            input_shape=[*IMAGE_SIZE, 3]\n",
        "        )\n",
        "        pretrained_model.trainable = False\n",
        "\n",
        "        input_layer = layers.Input(shape=(*IMAGE_SIZE, 3), name='input')\n",
        "\n",
        "        x = pretrained_model(input_layer)\n",
        "        x = layers.BatchNormalization()(x)  # move batch normalization before activation function\n",
        "        x = layers.GlobalAveragePooling2D(name='global_average_pooling2d')(x)\n",
        "\n",
        "        x = layers.Dense(256)(x)\n",
        "        x = layers.BatchNormalization()(x)  # Place batch normalization before each fully connected layer\n",
        "        x = layers.Activation('relu')(x)\n",
        "        x = layers.Dropout(0.3)(x)  # Add a dropout layer (here a ratio of 0.3 as an example)\n",
        "\n",
        "        x = layers.Dense(128)(x)\n",
        "        x = layers.BatchNormalization()(x)\n",
        "        x = layers.Activation('relu')(x)\n",
        "        x = layers.Dropout(0.3)(x)\n",
        "\n",
        "        output = layers.Dense(units=len(CLASSES),\n",
        "                              activation='softmax',\n",
        "                              name='output')(x)\n",
        "\n",
        "        model = Model(input_layer, output)\n",
        "        model.compile(optimizer='adam',\n",
        "                      loss='sparse_categorical_crossentropy',\n",
        "                      metrics=['accuracy'])\n",
        "\n",
        "        return model\n",
        "\n",
        "model = create_model()\n",
        "model.summary()\n"
      ],
      "metadata": {
        "colab": {
          "base_uri": "https://localhost:8080/"
        },
        "id": "5PlQ6ptA1uG2",
        "outputId": "6e7094eb-d2b0-4877-cbf5-34d0191c6caf"
      },
      "execution_count": null,
      "outputs": [
        {
          "output_type": "stream",
          "name": "stdout",
          "text": [
            "Downloading data from https://storage.googleapis.com/tensorflow/keras-applications/vgg19/vgg19_weights_tf_dim_ordering_tf_kernels_notop.h5\n",
            "80134624/80134624 [==============================] - 1s 0us/step\n",
            "Model: \"model\"\n",
            "_________________________________________________________________\n",
            " Layer (type)                Output Shape              Param #   \n",
            "=================================================================\n",
            " input (InputLayer)          [(None, 150, 150, 3)]     0         \n",
            "                                                                 \n",
            " vgg19 (Functional)          (None, 4, 4, 512)         20024384  \n",
            "                                                                 \n",
            " batch_normalization (Batch  (None, 4, 4, 512)         2048      \n",
            " Normalization)                                                  \n",
            "                                                                 \n",
            " global_average_pooling2d (  (None, 512)               0         \n",
            " GlobalAveragePooling2D)                                         \n",
            "                                                                 \n",
            " dense (Dense)               (None, 256)               131328    \n",
            "                                                                 \n",
            " batch_normalization_1 (Bat  (None, 256)               1024      \n",
            " chNormalization)                                                \n",
            "                                                                 \n",
            " activation (Activation)     (None, 256)               0         \n",
            "                                                                 \n",
            " dropout (Dropout)           (None, 256)               0         \n",
            "                                                                 \n",
            " dense_1 (Dense)             (None, 128)               32896     \n",
            "                                                                 \n",
            " batch_normalization_2 (Bat  (None, 128)               512       \n",
            " chNormalization)                                                \n",
            "                                                                 \n",
            " activation_1 (Activation)   (None, 128)               0         \n",
            "                                                                 \n",
            " dropout_1 (Dropout)         (None, 128)               0         \n",
            "                                                                 \n",
            " output (Dense)              (None, 5)                 645       \n",
            "                                                                 \n",
            "=================================================================\n",
            "Total params: 20192837 (77.03 MB)\n",
            "Trainable params: 166661 (651.02 KB)\n",
            "Non-trainable params: 20026176 (76.39 MB)\n",
            "_________________________________________________________________\n"
          ]
        }
      ]
    },
    {
      "cell_type": "markdown",
      "source": [
        "## 3.2. Train the model"
      ],
      "metadata": {
        "id": "9SjzqLp0yx3R"
      }
    },
    {
      "cell_type": "code",
      "execution_count": null,
      "metadata": {
        "colab": {
          "base_uri": "https://localhost:8080/"
        },
        "id": "N48tAhMJX4CS",
        "outputId": "48deb120-6168-4fec-c69a-772be92815ee"
      },
      "outputs": [
        {
          "output_type": "stream",
          "name": "stdout",
          "text": [
            "Epoch 1/3\n",
            "102/102 [==============================] - 1246s 12s/step - loss: 1.7268 - accuracy: 0.2800 - val_loss: 1.4650 - val_accuracy: 0.3501 - lr: 0.0010\n",
            "Epoch 2/3\n",
            "102/102 [==============================] - 1226s 12s/step - loss: 1.4532 - accuracy: 0.3833 - val_loss: 1.4285 - val_accuracy: 0.3794 - lr: 0.0010\n",
            "Epoch 3/3\n",
            "102/102 [==============================] - ETA: 0s - loss: 1.3384 - accuracy: 0.4231\n",
            "Epoch 3: ReduceLROnPlateau reducing learning rate to 0.0003000000142492354.\n",
            "102/102 [==============================] - 1181s 12s/step - loss: 1.3384 - accuracy: 0.4231 - val_loss: 1.4728 - val_accuracy: 0.3672 - lr: 0.0010\n",
            "\n",
            "Required time:  1:01:28.423613\n",
            "\n"
          ]
        }
      ],
      "source": [
        "train_labels = train_labels.astype('float32')\n",
        "val_labels = val_labels.astype('float32')\n",
        "test_labels = test_labels.astype('float32')\n",
        "\n",
        "init_time = datetime.datetime.now()\n",
        "learning_rate_reduction = ReduceLROnPlateau(monitor='val_accuracy', patience = 1, verbose=1, factor=0.3, min_lr=0.000001)\n",
        "early_stopping = tf.keras.callbacks.EarlyStopping(\n",
        "    monitor=\"val_loss\",\n",
        "    patience=10,\n",
        "    restore_best_weights=True,\n",
        ")\n",
        "\n",
        "trained = model.fit(\n",
        "                    train_images, train_labels,\n",
        "                    validation_data = (val_images, val_labels),\n",
        "                    batch_size = BATCH_SIZE,\n",
        "                    epochs=3,\n",
        "                    callbacks=[learning_rate_reduction, early_stopping],\n",
        "    )\n",
        "\n",
        "requared_time = datetime.datetime.now() - init_time\n",
        "print(f'\\nRequired time:  {str(requared_time)}\\n')"
      ]
    },
    {
      "cell_type": "markdown",
      "source": [
        "## 3.3. Save and Load the model"
      ],
      "metadata": {
        "id": "N0yZU7TOHBg8"
      }
    },
    {
      "cell_type": "code",
      "source": [
        "# Specify the path to the directory where the model will be saved\n",
        "save_dir = '/content/drive/My Drive/AAAI'\n",
        "\n",
        "# Save the model\n",
        "model.save(f'{save_dir}/test2.keras')\n",
        "\n",
        "# Save training history in JSON format\n",
        "history_data = {k: [float(val) for val in v] for k, v in trained.history.items()}\n",
        "with open(history_path, 'w') as f:\n",
        "    json.dump(history_data, f)"
      ],
      "metadata": {
        "id": "hVV87IjRA-6T"
      },
      "execution_count": null,
      "outputs": []
    },
    {
      "cell_type": "code",
      "source": [
        "# Load the model data\n",
        "model = load_model(f'{save_dir}/test2.keras')\n",
        "model.summary()\n",
        "\n",
        "# Ensure test_images and test_labels are numpy arrays\n",
        "train_labels = train_labels.astype('float32')\n",
        "val_labels = val_labels.astype('float32')\n",
        "test_labels = test_labels.astype('float32')\n",
        "\n",
        "# Load saved training history\n",
        "with open(history_path, 'r') as f:\n",
        "    loaded_history = json.load(f)\n"
      ],
      "metadata": {
        "id": "a6EJh3fiBBg7",
        "colab": {
          "base_uri": "https://localhost:8080/"
        },
        "outputId": "80224a48-dbb5-4cd2-b146-d997c75d173f"
      },
      "execution_count": null,
      "outputs": [
        {
          "output_type": "stream",
          "name": "stdout",
          "text": [
            "Model: \"model\"\n",
            "_________________________________________________________________\n",
            " Layer (type)                Output Shape              Param #   \n",
            "=================================================================\n",
            " input (InputLayer)          [(None, 150, 150, 3)]     0         \n",
            "                                                                 \n",
            " vgg19 (Functional)          (None, 4, 4, 512)         20024384  \n",
            "                                                                 \n",
            " batch_normalization (Batch  (None, 4, 4, 512)         2048      \n",
            " Normalization)                                                  \n",
            "                                                                 \n",
            " global_average_pooling2d (  (None, 512)               0         \n",
            " GlobalAveragePooling2D)                                         \n",
            "                                                                 \n",
            " dense (Dense)               (None, 256)               131328    \n",
            "                                                                 \n",
            " batch_normalization_1 (Bat  (None, 256)               1024      \n",
            " chNormalization)                                                \n",
            "                                                                 \n",
            " activation (Activation)     (None, 256)               0         \n",
            "                                                                 \n",
            " dropout (Dropout)           (None, 256)               0         \n",
            "                                                                 \n",
            " dense_1 (Dense)             (None, 128)               32896     \n",
            "                                                                 \n",
            " batch_normalization_2 (Bat  (None, 128)               512       \n",
            " chNormalization)                                                \n",
            "                                                                 \n",
            " activation_1 (Activation)   (None, 128)               0         \n",
            "                                                                 \n",
            " dropout_1 (Dropout)         (None, 128)               0         \n",
            "                                                                 \n",
            " output (Dense)              (None, 5)                 645       \n",
            "                                                                 \n",
            "=================================================================\n",
            "Total params: 20192837 (77.03 MB)\n",
            "Trainable params: 166661 (651.02 KB)\n",
            "Non-trainable params: 20026176 (76.39 MB)\n",
            "_________________________________________________________________\n"
          ]
        }
      ]
    },
    {
      "cell_type": "markdown",
      "source": [
        "# 4. Evaluation"
      ],
      "metadata": {
        "id": "J7s6IE3py7sY"
      }
    },
    {
      "cell_type": "markdown",
      "source": [
        "## 4.1. Training and Validation result\n"
      ],
      "metadata": {
        "id": "t72xfY_To3jO"
      }
    },
    {
      "cell_type": "markdown",
      "source": [
        "The graph if you train the model"
      ],
      "metadata": {
        "id": "8xcyXOzhPg0b"
      }
    },
    {
      "cell_type": "code",
      "execution_count": null,
      "metadata": {
        "colab": {
          "base_uri": "https://localhost:8080/",
          "height": 927
        },
        "id": "Klq5CSg2YBHO",
        "outputId": "ac5fbba2-7baa-4433-fbdb-05cde4c4bfec"
      },
      "outputs": [
        {
          "output_type": "display_data",
          "data": {
            "text/plain": [
              "<Figure size 640x480 with 1 Axes>"
            ],
            "image/png": "[encoded data removed]"
          },
          "metadata": {}
        },
        {
          "output_type": "display_data",
          "data": {
            "text/plain": [
              "<Figure size 640x480 with 1 Axes>"
            ],
            "image/png": "[encoded data removed]"
          },
          "metadata": {}
        }
      ],
      "source": [
        "def plot(wut):\n",
        "    plt.plot(trained.history[f'{wut}'])\n",
        "    plt.plot(trained.history[f'val_{wut}'])\n",
        "    plt.title(f'model {wut}')\n",
        "    plt.ylabel(f'{wut}')\n",
        "    plt.xlabel('epoch')\n",
        "    plt.legend(['train', 'val'], loc='upper left')\n",
        "    plt.show()\n",
        "\n",
        "plot('accuracy')\n",
        "plot('loss')"
      ]
    },
    {
      "cell_type": "markdown",
      "source": [
        "The graph if you load the model"
      ],
      "metadata": {
        "id": "QzHrXBlOPK3L"
      }
    },
    {
      "cell_type": "code",
      "source": [
        "def plot(wut):\n",
        "    plt.plot(loaded_history[wut])\n",
        "    plt.plot(loaded_history[f'val_{wut}'])\n",
        "    plt.title(f'model {wut}')\n",
        "    plt.ylabel(wut)\n",
        "    plt.xlabel('epoch')\n",
        "    plt.legend(['train', 'val'], loc='upper left')\n",
        "    plt.show()\n",
        "\n",
        "plot('accuracy')\n",
        "plot('loss')"
      ],
      "metadata": {
        "id": "0PCfvwPRiqAq"
      },
      "execution_count": null,
      "outputs": []
    },
    {
      "cell_type": "markdown",
      "source": [
        "## 4.2. Accuracy and Loss"
      ],
      "metadata": {
        "id": "OSF8fKLgHyyG"
      }
    },
    {
      "cell_type": "code",
      "execution_count": null,
      "metadata": {
        "colab": {
          "base_uri": "https://localhost:8080/"
        },
        "id": "1nKQK0-2X-05",
        "outputId": "f6251e09-789d-4400-bee6-208c64021fea"
      },
      "outputs": [
        {
          "output_type": "stream",
          "name": "stdout",
          "text": [
            "\n",
            "accuracy: 0.36800000071525574   loss:  1.523085355758667\n"
          ]
        }
      ],
      "source": [
        "# Now try to evaluate the model\n",
        "test_loss, test_acc = model.evaluate(test_images, test_labels, verbose=0)\n",
        "print('\\naccuracy:', test_acc, '  loss: ', test_loss)\n"
      ]
    },
    {
      "cell_type": "markdown",
      "source": [
        "## 4.3 Confusion Matrix"
      ],
      "metadata": {
        "id": "MzbNEtLdLBOq"
      }
    },
    {
      "cell_type": "code",
      "execution_count": null,
      "metadata": {
        "id": "Roikz9rfYBza",
        "colab": {
          "base_uri": "https://localhost:8080/",
          "height": 692
        },
        "outputId": "686de729-fda6-4cec-ded3-7d88a511cb22"
      },
      "outputs": [
        {
          "output_type": "stream",
          "name": "stdout",
          "text": [
            "16/16 [==============================] - 144s 9s/step\n",
            "Classification Report\n"
          ]
        },
        {
          "output_type": "display_data",
          "data": {
            "text/plain": [
              "<Figure size 640x480 with 2 Axes>"
            ],
            "image/png": "[encoded data removed]"
          },
          "metadata": {}
        },
        {
          "output_type": "stream",
          "name": "stdout",
          "text": [
            "              precision    recall  f1-score   support\n",
            "\n",
            "           0       0.33      0.37      0.35       100\n",
            "           1       0.33      0.41      0.37       100\n",
            "           2       0.22      0.20      0.21       100\n",
            "           3       0.44      0.35      0.39       100\n",
            "           4       0.54      0.51      0.53       100\n",
            "\n",
            "    accuracy                           0.37       500\n",
            "   macro avg       0.37      0.37      0.37       500\n",
            "weighted avg       0.37      0.37      0.37       500\n",
            "\n"
          ]
        }
      ],
      "source": [
        "Y_pred = model.predict(test_images)\n",
        "y_pred = np.argmax(Y_pred, axis=1)\n",
        "cm = confusion_matrix(test_labels, y_pred)\n",
        "print('Classification Report')\n",
        "target_names = ['0', '1', '2', '3', '4']\n",
        "disp = ConfusionMatrixDisplay(confusion_matrix=cm, display_labels=target_names)\n",
        "\n",
        "disp.plot(cmap=plt.cm.Blues)\n",
        "plt.show()\n",
        "\n",
        "print(classification_report(test_labels, y_pred, labels=[0,1,2,3,4], target_names=target_names))"
      ]
    },
    {
      "cell_type": "markdown",
      "source": [
        "## 4.4. Comparison between correct and miscrassified"
      ],
      "metadata": {
        "id": "uvXtPt_4LG70"
      }
    },
    {
      "cell_type": "code",
      "source": [
        "classified_examples = {}\n",
        "for index in range(len(test_labels)):\n",
        "    actual_label = test_labels[index]\n",
        "    if actual_label < 5:\n",
        "        if actual_label not in classified_examples:\n",
        "            classified_examples[actual_label] = {'correct': None, 'misclassified': None}\n",
        "\n",
        "        if test_labels[index] == y_pred[index] and classified_examples[actual_label]['correct'] is None:\n",
        "            classified_examples[actual_label]['correct'] = test_images[index]\n",
        "        elif test_labels[index] != y_pred[index] and classified_examples[actual_label]['misclassified'] is None:\n",
        "            classified_examples[actual_label]['misclassified'] = (test_images[index], y_pred[index])\n",
        "\n",
        "# Get index of correctly classified images\n",
        "correctly_classified_indices = np.where(test_labels == y_pred)[0]\n",
        "\n",
        "# Select 3 correctly classified images for each class\n",
        "correctly_classified_examples = {}\n",
        "for index in correctly_classified_indices:\n",
        "    actual_label = test_labels[index]\n",
        "    if actual_label < 5:\n",
        "        if actual_label not in correctly_classified_examples:\n",
        "            correctly_classified_examples[actual_label] = []\n",
        "        if len(correctly_classified_examples[actual_label]) < 3:\n",
        "            correctly_classified_examples[actual_label].append(test_images[index])\n",
        "\n",
        "sorted_classified_examples = dict(sorted(classified_examples.items()))\n",
        "\n",
        "# Display 3 correctly classified images and 1 misclassified image from each class\n",
        "fig, axes = plt.subplots(len(sorted_classified_examples), 4, figsize=(10, 10))\n",
        "for i, (actual_label, correct_images) in enumerate(sorted_classified_examples.items()):\n",
        "    for j in range(3):\n",
        "        if j < len(correctly_classified_examples[actual_label]):\n",
        "            axes[i, j].imshow(correctly_classified_examples[actual_label][j])\n",
        "            axes[i, j].set_title(f'Correct: {actual_label}')\n",
        "            axes[i, j].axis('off')\n",
        "        else:\n",
        "            axes[i, j].axis('off')\n",
        "\n",
        "    # Viewing misclassified images\n",
        "    misclassified_image, predicted_label = classified_examples[actual_label]['misclassified']\n",
        "    axes[i, 3].imshow(misclassified_image)\n",
        "    axes[i, 3].set_title(f'Misclassified: {actual_label}, Predicted: {predicted_label}')\n",
        "    axes[i, 3].axis('off')\n",
        "\n",
        "plt.tight_layout()\n",
        "plt.show()\n"
      ],
      "metadata": {
        "id": "Fzgz38Qs2g4I"
      },
      "execution_count": null,
      "outputs": []
    },
    {
      "cell_type": "markdown",
      "source": [
        "## 4.5. Attention map"
      ],
      "metadata": {
        "id": "DJMg5wtELZnS"
      }
    },
    {
      "cell_type": "code",
      "source": [
        "vgg19_layer = model.get_layer('vgg19')\n",
        "vgg19_layer.summary()\n",
        "model.summary()"
      ],
      "metadata": {
        "colab": {
          "base_uri": "https://localhost:8080/"
        },
        "id": "dnZHMMc7Wo_z",
        "outputId": "d55b5338-fdd0-4406-ac42-e26610513bb5"
      },
      "execution_count": null,
      "outputs": [
        {
          "output_type": "stream",
          "name": "stdout",
          "text": [
            "Model: \"vgg19\"\n",
            "_________________________________________________________________\n",
            " Layer (type)                Output Shape              Param #   \n",
            "=================================================================\n",
            " input_1 (InputLayer)        [(None, 150, 150, 3)]     0         \n",
            "                                                                 \n",
            " block1_conv1 (Conv2D)       (None, 150, 150, 64)      1792      \n",
            "                                                                 \n",
            " block1_conv2 (Conv2D)       (None, 150, 150, 64)      36928     \n",
            "                                                                 \n",
            " block1_pool (MaxPooling2D)  (None, 75, 75, 64)        0         \n",
            "                                                                 \n",
            " block2_conv1 (Conv2D)       (None, 75, 75, 128)       73856     \n",
            "                                                                 \n",
            " block2_conv2 (Conv2D)       (None, 75, 75, 128)       147584    \n",
            "                                                                 \n",
            " block2_pool (MaxPooling2D)  (None, 37, 37, 128)       0         \n",
            "                                                                 \n",
            " block3_conv1 (Conv2D)       (None, 37, 37, 256)       295168    \n",
            "                                                                 \n",
            " block3_conv2 (Conv2D)       (None, 37, 37, 256)       590080    \n",
            "                                                                 \n",
            " block3_conv3 (Conv2D)       (None, 37, 37, 256)       590080    \n",
            "                                                                 \n",
            " block3_conv4 (Conv2D)       (None, 37, 37, 256)       590080    \n",
            "                                                                 \n",
            " block3_pool (MaxPooling2D)  (None, 18, 18, 256)       0         \n",
            "                                                                 \n",
            " block4_conv1 (Conv2D)       (None, 18, 18, 512)       1180160   \n",
            "                                                                 \n",
            " block4_conv2 (Conv2D)       (None, 18, 18, 512)       2359808   \n",
            "                                                                 \n",
            " block4_conv3 (Conv2D)       (None, 18, 18, 512)       2359808   \n",
            "                                                                 \n",
            " block4_conv4 (Conv2D)       (None, 18, 18, 512)       2359808   \n",
            "                                                                 \n",
            " block4_pool (MaxPooling2D)  (None, 9, 9, 512)         0         \n",
            "                                                                 \n",
            " block5_conv1 (Conv2D)       (None, 9, 9, 512)         2359808   \n",
            "                                                                 \n",
            " block5_conv2 (Conv2D)       (None, 9, 9, 512)         2359808   \n",
            "                                                                 \n",
            " block5_conv3 (Conv2D)       (None, 9, 9, 512)         2359808   \n",
            "                                                                 \n",
            " block5_conv4 (Conv2D)       (None, 9, 9, 512)         2359808   \n",
            "                                                                 \n",
            " block5_pool (MaxPooling2D)  (None, 4, 4, 512)         0         \n",
            "                                                                 \n",
            "=================================================================\n",
            "Total params: 20024384 (76.39 MB)\n",
            "Trainable params: 0 (0.00 Byte)\n",
            "Non-trainable params: 20024384 (76.39 MB)\n",
            "_________________________________________________________________\n",
            "Model: \"model\"\n",
            "_________________________________________________________________\n",
            " Layer (type)                Output Shape              Param #   \n",
            "=================================================================\n",
            " input (InputLayer)          [(None, 150, 150, 3)]     0         \n",
            "                                                                 \n",
            " vgg19 (Functional)          (None, 4, 4, 512)         20024384  \n",
            "                                                                 \n",
            " batch_normalization (Batch  (None, 4, 4, 512)         2048      \n",
            " Normalization)                                                  \n",
            "                                                                 \n",
            " global_average_pooling2d (  (None, 512)               0         \n",
            " GlobalAveragePooling2D)                                         \n",
            "                                                                 \n",
            " dense (Dense)               (None, 256)               131328    \n",
            "                                                                 \n",
            " batch_normalization_1 (Bat  (None, 256)               1024      \n",
            " chNormalization)                                                \n",
            "                                                                 \n",
            " activation (Activation)     (None, 256)               0         \n",
            "                                                                 \n",
            " dropout (Dropout)           (None, 256)               0         \n",
            "                                                                 \n",
            " dense_1 (Dense)             (None, 128)               32896     \n",
            "                                                                 \n",
            " batch_normalization_2 (Bat  (None, 128)               512       \n",
            " chNormalization)                                                \n",
            "                                                                 \n",
            " activation_1 (Activation)   (None, 128)               0         \n",
            "                                                                 \n",
            " dropout_1 (Dropout)         (None, 128)               0         \n",
            "                                                                 \n",
            " output (Dense)              (None, 5)                 645       \n",
            "                                                                 \n",
            "=================================================================\n",
            "Total params: 20192837 (77.03 MB)\n",
            "Trainable params: 166661 (651.02 KB)\n",
            "Non-trainable params: 20026176 (76.39 MB)\n",
            "_________________________________________________________________\n"
          ]
        }
      ]
    },
    {
      "cell_type": "code",
      "source": [
        "tf.get_logger().setLevel('ERROR')\n",
        "\n",
        "# Function to generate a Grad-CAM heatmap\n",
        "def make_gradcam_heatmap(img_array, model, last_conv_layer_name, classifier_layer_names):\n",
        "    # Retrieve the last convolutional layer from within the VGG19 model\n",
        "    vgg19 = model.get_layer('vgg19')\n",
        "    last_conv_layer = vgg19.get_layer(last_conv_layer_name)\n",
        "\n",
        "    # Get the output up to the last convolutional layer through the VGG19 model\n",
        "    vgg19_output = last_conv_layer.output\n",
        "\n",
        "    # Apply classification layers\n",
        "    x = vgg19_output\n",
        "    for layer_name in classifier_layer_names:\n",
        "        x = model.get_layer(layer_name)(x)\n",
        "\n",
        "    # Create the Grad-CAM model\n",
        "    grad_model = Model(inputs=vgg19.input, outputs=[vgg19_output, x])\n",
        "\n",
        "    # Grad-CAM algorithm\n",
        "    with tf.GradientTape() as tape:\n",
        "        conv_outputs, predictions = grad_model(img_array)\n",
        "        class_id = tf.argmax(predictions[0])\n",
        "        loss = predictions[:, class_id]\n",
        "\n",
        "    grads = tape.gradient(loss, conv_outputs)\n",
        "    pooled_grads = tf.reduce_mean(grads, axis=(0, 1, 2))\n",
        "    heatmap = tf.reduce_mean(tf.multiply(pooled_grads, conv_outputs), axis=-1)\n",
        "    heatmap = np.maximum(heatmap, 0)\n",
        "    heatmap /= np.max(heatmap)\n",
        "    return heatmap[0]\n",
        "\n",
        "# Grad-CAM and a function to display the original image\n",
        "def display_gradcam_and_original(img_path, heatmap, cls, alpha=0.4):\n",
        "    img = cv2.imread(img_path)\n",
        "    img = cv2.cvtColor(img, cv2.COLOR_BGR2RGB)\n",
        "    img = cv2.resize(img, (img_width, img_height))\n",
        "    heatmap = np.uint8(255 * heatmap)\n",
        "    jet = cv2.applyColorMap(heatmap, cv2.COLORMAP_JET)\n",
        "    jet = cv2.resize(jet, (img_width, img_height))\n",
        "    superimposed_img = jet * alpha + img\n",
        "    superimposed_img = np.clip(superimposed_img, 0, 255).astype(np.uint8)\n",
        "    superimposed_img = cv2.cvtColor(superimposed_img, cv2.COLOR_RGB2BGR)\n",
        "    plt.figure(figsize=(10, 5))\n",
        "    plt.subplot(1, 2, 1)\n",
        "    plt.imshow(img)\n",
        "    plt.title(\"Original Image #\" + cls)\n",
        "    plt.axis('off')\n",
        "    plt.subplot(1, 2, 2)\n",
        "    plt.imshow(superimposed_img)\n",
        "    plt.title(\"Grad-CAM\")\n",
        "    plt.axis('off')\n",
        "    plt.tight_layout()\n",
        "    plt.show()\n",
        "\n",
        "# Setting parameters\n",
        "test_dir = '/content/drive/My Drive/AAAI/DR_data_cropped_classes/test'\n",
        "img_width, img_height = 150, 150\n",
        "classes = ['0', '1', '2', '3', '4']\n",
        "last_conv_layer_name = 'block5_conv4'\n",
        "\n",
        "# depends on the model layers\n",
        "# classifier_layer_names = ['global_average_pooling2d', 'batch_normalization', 'dense', 'batch_normalization_1', 'dense_1', 'output']\n",
        "classifier_layer_names = [\n",
        "    'batch_normalization',\n",
        "    'global_average_pooling2d',\n",
        "    'dense',\n",
        "    'batch_normalization_1',\n",
        "    'activation',\n",
        "    'dropout',\n",
        "    'dense_1',\n",
        "    'batch_normalization_2',\n",
        "    'activation_1',\n",
        "    'dropout_1',\n",
        "    'output'\n",
        "]\n",
        "\n",
        "# Generate and display a heatmap for the first image of each class\n",
        "for cls in classes:\n",
        "    class_dir = os.path.join(test_dir, cls)\n",
        "    img_path = os.path.join(class_dir, os.listdir(class_dir)[0])\n",
        "    img = load_img(img_path, target_size=(img_width, img_height))\n",
        "    img_array = img_to_array(img)\n",
        "    img_array = np.expand_dims(img_array, axis=0) / 255.0\n",
        "    heatmap = make_gradcam_heatmap(img_array, model, last_conv_layer_name, classifier_layer_names)\n",
        "    display_gradcam_and_original(img_path, heatmap, cls)\n"
      ],
      "metadata": {
        "id": "OaeBTP1IUYJD"
      },
      "execution_count": null,
      "outputs": []
    },
    {
      "cell_type": "markdown",
      "source": [
        "# 5. Reference\n",
        "https://github.com/P-stha12/a-eye.ai/blob/main/ML/final.ipynb"
      ],
      "metadata": {
        "id": "6n3p4w8mMZ7E"
      }
    }
  ],
  "metadata": {
    "colab": {
      "provenance": []
    },
    "kernelspec": {
      "display_name": "Python 3",
      "name": "python3"
    },
    "language_info": {
      "name": "python"
    }
  },
  "nbformat": 4,
  "nbformat_minor": 0
}